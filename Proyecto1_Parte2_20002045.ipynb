{
  "nbformat": 4,
  "nbformat_minor": 0,
  "metadata": {
    "kernelspec": {
      "display_name": "Python 3",
      "language": "python",
      "name": "python3"
    },
    "language_info": {
      "codemirror_mode": {
        "name": "ipython",
        "version": 3
      },
      "file_extension": ".py",
      "mimetype": "text/x-python",
      "name": "python",
      "nbconvert_exporter": "python",
      "pygments_lexer": "ipython3",
      "version": "3.7.6"
    },
    "colab": {
      "name": "Proyecto1_Parte2_20002045.ipynb",
      "provenance": [],
      "collapsed_sections": []
    }
  },
  "cells": [
    {
      "cell_type": "markdown",
      "metadata": {
        "id": "j_cDyq9SGFLC"
      },
      "source": [
        "## **Proyecto 2 - Feature Engineering**"
      ]
    },
    {
      "cell_type": "markdown",
      "metadata": {
        "id": "J08tQt6aGPis"
      },
      "source": [
        "Stefanie M. Alvarez Pérez, 20002045"
      ]
    },
    {
      "cell_type": "code",
      "metadata": {
        "id": "sJwCscZXW_2V"
      },
      "source": [
        "import pandas as pd\n",
        "import numpy as np\n",
        "import matplotlib.pyplot as plt\n",
        "\n",
        "import scipy.stats as stats\n",
        "\n",
        "from sklearn.model_selection import train_test_split\n",
        "from sklearn.preprocessing import MinMaxScaler\n",
        "\n",
        "import joblib"
      ],
      "execution_count": 196,
      "outputs": []
    },
    {
      "cell_type": "code",
      "metadata": {
        "colab": {
          "base_uri": "https://localhost:8080/"
        },
        "id": "Vb8hDLpPGVp8",
        "outputId": "3db04b5e-9637-4aaa-8e44-3e7c95803c50"
      },
      "source": [
        "from google.colab import drive\n",
        "drive.mount('/content/drive')"
      ],
      "execution_count": 197,
      "outputs": [
        {
          "output_type": "stream",
          "name": "stdout",
          "text": [
            "Drive already mounted at /content/drive; to attempt to forcibly remount, call drive.mount(\"/content/drive\", force_remount=True).\n"
          ]
        }
      ]
    },
    {
      "cell_type": "code",
      "metadata": {
        "id": "JGbbroGWW_2f"
      },
      "source": [
        "pd.pandas.set_option('display.max_columns', None) #habilitamos despliegue maximo de columnas"
      ],
      "execution_count": 198,
      "outputs": []
    },
    {
      "cell_type": "code",
      "metadata": {
        "id": "pMRDoUY8W_2h",
        "colab": {
          "base_uri": "https://localhost:8080/"
        },
        "outputId": "f527190a-6293-46b2-940d-509ef059a6ea"
      },
      "source": [
        "data = pd.read_csv('/content/drive/MyDrive/Product Development/Proyecto 1/hotel_bookings.csv')\n",
        "print(data.shape)\n"
      ],
      "execution_count": 199,
      "outputs": [
        {
          "output_type": "stream",
          "name": "stdout",
          "text": [
            "(119390, 32)\n"
          ]
        }
      ]
    },
    {
      "cell_type": "code",
      "metadata": {
        "id": "KN1Izs69W_2j",
        "colab": {
          "base_uri": "https://localhost:8080/",
          "height": 313
        },
        "outputId": "66d0442d-05e7-42d8-94cc-42327021284f"
      },
      "source": [
        "data.head()"
      ],
      "execution_count": 200,
      "outputs": [
        {
          "output_type": "execute_result",
          "data": {
            "text/html": [
              "<div>\n",
              "<style scoped>\n",
              "    .dataframe tbody tr th:only-of-type {\n",
              "        vertical-align: middle;\n",
              "    }\n",
              "\n",
              "    .dataframe tbody tr th {\n",
              "        vertical-align: top;\n",
              "    }\n",
              "\n",
              "    .dataframe thead th {\n",
              "        text-align: right;\n",
              "    }\n",
              "</style>\n",
              "<table border=\"1\" class=\"dataframe\">\n",
              "  <thead>\n",
              "    <tr style=\"text-align: right;\">\n",
              "      <th></th>\n",
              "      <th>hotel</th>\n",
              "      <th>is_canceled</th>\n",
              "      <th>lead_time</th>\n",
              "      <th>arrival_date_year</th>\n",
              "      <th>arrival_date_month</th>\n",
              "      <th>arrival_date_week_number</th>\n",
              "      <th>arrival_date_day_of_month</th>\n",
              "      <th>stays_in_weekend_nights</th>\n",
              "      <th>stays_in_week_nights</th>\n",
              "      <th>adults</th>\n",
              "      <th>children</th>\n",
              "      <th>babies</th>\n",
              "      <th>meal</th>\n",
              "      <th>country</th>\n",
              "      <th>market_segment</th>\n",
              "      <th>distribution_channel</th>\n",
              "      <th>is_repeated_guest</th>\n",
              "      <th>previous_cancellations</th>\n",
              "      <th>previous_bookings_not_canceled</th>\n",
              "      <th>reserved_room_type</th>\n",
              "      <th>assigned_room_type</th>\n",
              "      <th>booking_changes</th>\n",
              "      <th>deposit_type</th>\n",
              "      <th>agent</th>\n",
              "      <th>company</th>\n",
              "      <th>days_in_waiting_list</th>\n",
              "      <th>customer_type</th>\n",
              "      <th>adr</th>\n",
              "      <th>required_car_parking_spaces</th>\n",
              "      <th>total_of_special_requests</th>\n",
              "      <th>reservation_status</th>\n",
              "      <th>reservation_status_date</th>\n",
              "    </tr>\n",
              "  </thead>\n",
              "  <tbody>\n",
              "    <tr>\n",
              "      <th>0</th>\n",
              "      <td>Resort Hotel</td>\n",
              "      <td>0</td>\n",
              "      <td>342</td>\n",
              "      <td>2015</td>\n",
              "      <td>July</td>\n",
              "      <td>27</td>\n",
              "      <td>1</td>\n",
              "      <td>0</td>\n",
              "      <td>0</td>\n",
              "      <td>2</td>\n",
              "      <td>0.0</td>\n",
              "      <td>0</td>\n",
              "      <td>BB</td>\n",
              "      <td>PRT</td>\n",
              "      <td>Direct</td>\n",
              "      <td>Direct</td>\n",
              "      <td>0</td>\n",
              "      <td>0</td>\n",
              "      <td>0</td>\n",
              "      <td>C</td>\n",
              "      <td>C</td>\n",
              "      <td>3</td>\n",
              "      <td>No Deposit</td>\n",
              "      <td>NaN</td>\n",
              "      <td>NaN</td>\n",
              "      <td>0</td>\n",
              "      <td>Transient</td>\n",
              "      <td>0.0</td>\n",
              "      <td>0</td>\n",
              "      <td>0</td>\n",
              "      <td>Check-Out</td>\n",
              "      <td>2015-07-01</td>\n",
              "    </tr>\n",
              "    <tr>\n",
              "      <th>1</th>\n",
              "      <td>Resort Hotel</td>\n",
              "      <td>0</td>\n",
              "      <td>737</td>\n",
              "      <td>2015</td>\n",
              "      <td>July</td>\n",
              "      <td>27</td>\n",
              "      <td>1</td>\n",
              "      <td>0</td>\n",
              "      <td>0</td>\n",
              "      <td>2</td>\n",
              "      <td>0.0</td>\n",
              "      <td>0</td>\n",
              "      <td>BB</td>\n",
              "      <td>PRT</td>\n",
              "      <td>Direct</td>\n",
              "      <td>Direct</td>\n",
              "      <td>0</td>\n",
              "      <td>0</td>\n",
              "      <td>0</td>\n",
              "      <td>C</td>\n",
              "      <td>C</td>\n",
              "      <td>4</td>\n",
              "      <td>No Deposit</td>\n",
              "      <td>NaN</td>\n",
              "      <td>NaN</td>\n",
              "      <td>0</td>\n",
              "      <td>Transient</td>\n",
              "      <td>0.0</td>\n",
              "      <td>0</td>\n",
              "      <td>0</td>\n",
              "      <td>Check-Out</td>\n",
              "      <td>2015-07-01</td>\n",
              "    </tr>\n",
              "    <tr>\n",
              "      <th>2</th>\n",
              "      <td>Resort Hotel</td>\n",
              "      <td>0</td>\n",
              "      <td>7</td>\n",
              "      <td>2015</td>\n",
              "      <td>July</td>\n",
              "      <td>27</td>\n",
              "      <td>1</td>\n",
              "      <td>0</td>\n",
              "      <td>1</td>\n",
              "      <td>1</td>\n",
              "      <td>0.0</td>\n",
              "      <td>0</td>\n",
              "      <td>BB</td>\n",
              "      <td>GBR</td>\n",
              "      <td>Direct</td>\n",
              "      <td>Direct</td>\n",
              "      <td>0</td>\n",
              "      <td>0</td>\n",
              "      <td>0</td>\n",
              "      <td>A</td>\n",
              "      <td>C</td>\n",
              "      <td>0</td>\n",
              "      <td>No Deposit</td>\n",
              "      <td>NaN</td>\n",
              "      <td>NaN</td>\n",
              "      <td>0</td>\n",
              "      <td>Transient</td>\n",
              "      <td>75.0</td>\n",
              "      <td>0</td>\n",
              "      <td>0</td>\n",
              "      <td>Check-Out</td>\n",
              "      <td>2015-07-02</td>\n",
              "    </tr>\n",
              "    <tr>\n",
              "      <th>3</th>\n",
              "      <td>Resort Hotel</td>\n",
              "      <td>0</td>\n",
              "      <td>13</td>\n",
              "      <td>2015</td>\n",
              "      <td>July</td>\n",
              "      <td>27</td>\n",
              "      <td>1</td>\n",
              "      <td>0</td>\n",
              "      <td>1</td>\n",
              "      <td>1</td>\n",
              "      <td>0.0</td>\n",
              "      <td>0</td>\n",
              "      <td>BB</td>\n",
              "      <td>GBR</td>\n",
              "      <td>Corporate</td>\n",
              "      <td>Corporate</td>\n",
              "      <td>0</td>\n",
              "      <td>0</td>\n",
              "      <td>0</td>\n",
              "      <td>A</td>\n",
              "      <td>A</td>\n",
              "      <td>0</td>\n",
              "      <td>No Deposit</td>\n",
              "      <td>304.0</td>\n",
              "      <td>NaN</td>\n",
              "      <td>0</td>\n",
              "      <td>Transient</td>\n",
              "      <td>75.0</td>\n",
              "      <td>0</td>\n",
              "      <td>0</td>\n",
              "      <td>Check-Out</td>\n",
              "      <td>2015-07-02</td>\n",
              "    </tr>\n",
              "    <tr>\n",
              "      <th>4</th>\n",
              "      <td>Resort Hotel</td>\n",
              "      <td>0</td>\n",
              "      <td>14</td>\n",
              "      <td>2015</td>\n",
              "      <td>July</td>\n",
              "      <td>27</td>\n",
              "      <td>1</td>\n",
              "      <td>0</td>\n",
              "      <td>2</td>\n",
              "      <td>2</td>\n",
              "      <td>0.0</td>\n",
              "      <td>0</td>\n",
              "      <td>BB</td>\n",
              "      <td>GBR</td>\n",
              "      <td>Online TA</td>\n",
              "      <td>TA/TO</td>\n",
              "      <td>0</td>\n",
              "      <td>0</td>\n",
              "      <td>0</td>\n",
              "      <td>A</td>\n",
              "      <td>A</td>\n",
              "      <td>0</td>\n",
              "      <td>No Deposit</td>\n",
              "      <td>240.0</td>\n",
              "      <td>NaN</td>\n",
              "      <td>0</td>\n",
              "      <td>Transient</td>\n",
              "      <td>98.0</td>\n",
              "      <td>0</td>\n",
              "      <td>1</td>\n",
              "      <td>Check-Out</td>\n",
              "      <td>2015-07-03</td>\n",
              "    </tr>\n",
              "  </tbody>\n",
              "</table>\n",
              "</div>"
            ],
            "text/plain": [
              "          hotel  is_canceled  lead_time  arrival_date_year arrival_date_month  \\\n",
              "0  Resort Hotel            0        342               2015               July   \n",
              "1  Resort Hotel            0        737               2015               July   \n",
              "2  Resort Hotel            0          7               2015               July   \n",
              "3  Resort Hotel            0         13               2015               July   \n",
              "4  Resort Hotel            0         14               2015               July   \n",
              "\n",
              "   arrival_date_week_number  arrival_date_day_of_month  \\\n",
              "0                        27                          1   \n",
              "1                        27                          1   \n",
              "2                        27                          1   \n",
              "3                        27                          1   \n",
              "4                        27                          1   \n",
              "\n",
              "   stays_in_weekend_nights  stays_in_week_nights  adults  children  babies  \\\n",
              "0                        0                     0       2       0.0       0   \n",
              "1                        0                     0       2       0.0       0   \n",
              "2                        0                     1       1       0.0       0   \n",
              "3                        0                     1       1       0.0       0   \n",
              "4                        0                     2       2       0.0       0   \n",
              "\n",
              "  meal country market_segment distribution_channel  is_repeated_guest  \\\n",
              "0   BB     PRT         Direct               Direct                  0   \n",
              "1   BB     PRT         Direct               Direct                  0   \n",
              "2   BB     GBR         Direct               Direct                  0   \n",
              "3   BB     GBR      Corporate            Corporate                  0   \n",
              "4   BB     GBR      Online TA                TA/TO                  0   \n",
              "\n",
              "   previous_cancellations  previous_bookings_not_canceled reserved_room_type  \\\n",
              "0                       0                               0                  C   \n",
              "1                       0                               0                  C   \n",
              "2                       0                               0                  A   \n",
              "3                       0                               0                  A   \n",
              "4                       0                               0                  A   \n",
              "\n",
              "  assigned_room_type  booking_changes deposit_type  agent  company  \\\n",
              "0                  C                3   No Deposit    NaN      NaN   \n",
              "1                  C                4   No Deposit    NaN      NaN   \n",
              "2                  C                0   No Deposit    NaN      NaN   \n",
              "3                  A                0   No Deposit  304.0      NaN   \n",
              "4                  A                0   No Deposit  240.0      NaN   \n",
              "\n",
              "   days_in_waiting_list customer_type   adr  required_car_parking_spaces  \\\n",
              "0                     0     Transient   0.0                            0   \n",
              "1                     0     Transient   0.0                            0   \n",
              "2                     0     Transient  75.0                            0   \n",
              "3                     0     Transient  75.0                            0   \n",
              "4                     0     Transient  98.0                            0   \n",
              "\n",
              "   total_of_special_requests reservation_status reservation_status_date  \n",
              "0                          0          Check-Out              2015-07-01  \n",
              "1                          0          Check-Out              2015-07-01  \n",
              "2                          0          Check-Out              2015-07-02  \n",
              "3                          0          Check-Out              2015-07-02  \n",
              "4                          1          Check-Out              2015-07-03  "
            ]
          },
          "metadata": {},
          "execution_count": 200
        }
      ]
    },
    {
      "cell_type": "code",
      "metadata": {
        "id": "bmwGJvomW_2k"
      },
      "source": [
        "#separamos data para entrenamiento y prueba, previene el overfitting (ajuste a la estructura del dataset completo)\n",
        "X_train, X_test, y_train, y_test = train_test_split(\n",
        "                        data.drop(['agent', 'company'], axis=1),\n",
        "                        data['adr'],\n",
        "                        test_size=0.15,\n",
        "                        random_state=2021) #Random State garantiza la reproducilidad del análisis"
      ],
      "execution_count": 201,
      "outputs": []
    },
    {
      "cell_type": "code",
      "metadata": {
        "id": "Ip_nbcHgW_2l",
        "colab": {
          "base_uri": "https://localhost:8080/"
        },
        "outputId": "2c4046e3-d08a-4707-802b-0faa2bb12485"
      },
      "source": [
        "X_train.shape, X_test.shape"
      ],
      "execution_count": 202,
      "outputs": [
        {
          "output_type": "execute_result",
          "data": {
            "text/plain": [
              "((101481, 30), (17909, 30))"
            ]
          },
          "metadata": {},
          "execution_count": 202
        }
      ]
    },
    {
      "cell_type": "markdown",
      "metadata": {
        "id": "Fqg3mJRzW_2n"
      },
      "source": [
        "### 1. Transformación del Target a Gausssiano"
      ]
    },
    {
      "cell_type": "code",
      "metadata": {
        "id": "fcR8G4JnW_2r",
        "colab": {
          "base_uri": "https://localhost:8080/"
        },
        "outputId": "56ee7120-c21f-4bb4-f9f4-5ff5a94e7cf6"
      },
      "source": [
        "#Mejorarlo con funciones logarítmicas\n",
        "y_train = np.log(y_train)\n",
        "y_test = np.log(y_test)"
      ],
      "execution_count": 203,
      "outputs": [
        {
          "output_type": "stream",
          "name": "stderr",
          "text": [
            "/usr/local/lib/python3.7/dist-packages/pandas/core/series.py:726: RuntimeWarning: divide by zero encountered in log\n",
            "  result = getattr(ufunc, method)(*inputs, **kwargs)\n",
            "/usr/local/lib/python3.7/dist-packages/pandas/core/series.py:726: RuntimeWarning: invalid value encountered in log\n",
            "  result = getattr(ufunc, method)(*inputs, **kwargs)\n"
          ]
        }
      ]
    },
    {
      "cell_type": "markdown",
      "metadata": {
        "id": "4u36A2o1W_2t"
      },
      "source": [
        "### 2. Missing Values"
      ]
    },
    {
      "cell_type": "markdown",
      "metadata": {
        "id": "aSh8YVD-W_2u"
      },
      "source": [
        "##### 2.1 Missing Values para Variables Categóricas"
      ]
    },
    {
      "cell_type": "code",
      "metadata": {
        "id": "3YBv8XAzW_2v"
      },
      "source": [
        "cat_vars = [var for var in data.columns if data[var].dtype == 'O']\n",
        "cat_vars = cat_vars + ['is_canceled', 'is_repeated_guest']"
      ],
      "execution_count": 204,
      "outputs": []
    },
    {
      "cell_type": "code",
      "metadata": {
        "id": "CCtApp0CW_2v"
      },
      "source": [
        "#Repetir tanto para train como para test\n",
        "X_train[cat_vars] = X_train[cat_vars].astype('O')\n",
        "X_test[cat_vars] = X_test[cat_vars].astype('O')"
      ],
      "execution_count": 205,
      "outputs": []
    },
    {
      "cell_type": "code",
      "metadata": {
        "id": "gQPyaQxNW_2w",
        "colab": {
          "base_uri": "https://localhost:8080/"
        },
        "outputId": "c737c042-fad3-4607-eb1d-ba5a244a3b97"
      },
      "source": [
        "len(cat_vars)"
      ],
      "execution_count": 206,
      "outputs": [
        {
          "output_type": "execute_result",
          "data": {
            "text/plain": [
              "14"
            ]
          },
          "metadata": {},
          "execution_count": 206
        }
      ]
    },
    {
      "cell_type": "markdown",
      "metadata": {
        "id": "6lSIGYy-W_2x"
      },
      "source": [
        "##### 2.1.1 Detección de NaN en variables categórias"
      ]
    },
    {
      "cell_type": "code",
      "metadata": {
        "id": "JaSRkeDsW_2x"
      },
      "source": [
        "cat_vars_with_na = [var for var in cat_vars \n",
        "                        if X_train[var].isnull().sum() > 0]"
      ],
      "execution_count": 207,
      "outputs": []
    },
    {
      "cell_type": "code",
      "metadata": {
        "id": "KKl8rAxHW_2x",
        "colab": {
          "base_uri": "https://localhost:8080/"
        },
        "outputId": "f2dd27fe-8ee1-43c3-8042-c6e0c797834a"
      },
      "source": [
        "cat_vars_with_na"
      ],
      "execution_count": 208,
      "outputs": [
        {
          "output_type": "execute_result",
          "data": {
            "text/plain": [
              "['country']"
            ]
          },
          "metadata": {},
          "execution_count": 208
        }
      ]
    },
    {
      "cell_type": "code",
      "metadata": {
        "id": "8dw2pqHvW_2y",
        "colab": {
          "base_uri": "https://localhost:8080/"
        },
        "outputId": "6bc3299d-3199-4d31-fc62-46c0a87b3f49"
      },
      "source": [
        "X_train[cat_vars_with_na].isnull().mean().sort_values(ascending = False)"
      ],
      "execution_count": 209,
      "outputs": [
        {
          "output_type": "execute_result",
          "data": {
            "text/plain": [
              "country    0.004188\n",
              "dtype: float64"
            ]
          },
          "metadata": {},
          "execution_count": 209
        }
      ]
    },
    {
      "cell_type": "code",
      "metadata": {
        "id": "1a62UJ6oW_2y"
      },
      "source": [
        "#variables tratadas con etiqueta de faltante por cantidad masiva de faltantes.\n",
        "vars_with_missing_string = [var for var in cat_vars_with_na\n",
        "                               if X_train[var].isnull().mean() > 0.2]\n",
        "\n",
        "#variables tratadas con procedimiento por candiad adecuada de faltantes.\n",
        "vars_freq_category = [var for var in cat_vars_with_na\n",
        "                               if X_train[var].isnull().mean() <= 0.2]"
      ],
      "execution_count": 210,
      "outputs": []
    },
    {
      "cell_type": "code",
      "metadata": {
        "id": "EL4zy15nW_2y",
        "colab": {
          "base_uri": "https://localhost:8080/"
        },
        "outputId": "2f758a80-69d8-43b7-91a9-0e9b596bb4cb"
      },
      "source": [
        "vars_with_missing_string"
      ],
      "execution_count": 211,
      "outputs": [
        {
          "output_type": "execute_result",
          "data": {
            "text/plain": [
              "[]"
            ]
          },
          "metadata": {},
          "execution_count": 211
        }
      ]
    },
    {
      "cell_type": "code",
      "metadata": {
        "id": "MD2iH179W_2z",
        "colab": {
          "base_uri": "https://localhost:8080/"
        },
        "outputId": "5a56d307-f80a-4dc2-cbf1-cf7a93c71e43"
      },
      "source": [
        "vars_freq_category"
      ],
      "execution_count": 212,
      "outputs": [
        {
          "output_type": "execute_result",
          "data": {
            "text/plain": [
              "['country']"
            ]
          },
          "metadata": {},
          "execution_count": 212
        }
      ]
    },
    {
      "cell_type": "markdown",
      "metadata": {
        "id": "rlNTFxf8W_2z"
      },
      "source": [
        "##### Aplicamos cirterio para tratar data faltante"
      ]
    },
    {
      "cell_type": "code",
      "metadata": {
        "id": "TI7Y8a7nW_2z"
      },
      "source": [
        "#Faltantes con etiqueta missing\n",
        "X_train[vars_with_missing_string] = X_train[vars_with_missing_string].fillna('Missing')\n",
        "X_test[vars_with_missing_string] = X_test[vars_with_missing_string].fillna('Missing')"
      ],
      "execution_count": 213,
      "outputs": []
    },
    {
      "cell_type": "code",
      "metadata": {
        "id": "19kxOHQ4W_20",
        "colab": {
          "base_uri": "https://localhost:8080/"
        },
        "outputId": "02542980-1d2d-4e42-a0a8-5739d08fad01"
      },
      "source": [
        "#Estamos haciendo frecuency coding con la moda (por categoría para que no se repita)\n",
        "for var in vars_freq_category:\n",
        "    mode = X_train[var].mode()[0]\n",
        "    \n",
        "    X_train[var].fillna(mode, inplace=True)\n",
        "    X_test[var].fillna(mode, inplace=True)\n",
        "    \n",
        "    print(var, \"-------\", mode)"
      ],
      "execution_count": 214,
      "outputs": [
        {
          "output_type": "stream",
          "name": "stdout",
          "text": [
            "country ------- PRT\n"
          ]
        }
      ]
    },
    {
      "cell_type": "code",
      "metadata": {
        "id": "7bK9kj1rW_20",
        "colab": {
          "base_uri": "https://localhost:8080/",
          "height": 35
        },
        "outputId": "7838a584-26a6-48b8-a02a-e78f76d91b01"
      },
      "source": [
        "X_train['country'].mode()[0]"
      ],
      "execution_count": 215,
      "outputs": [
        {
          "output_type": "execute_result",
          "data": {
            "application/vnd.google.colaboratory.intrinsic+json": {
              "type": "string"
            },
            "text/plain": [
              "'PRT'"
            ]
          },
          "metadata": {},
          "execution_count": 215
        }
      ]
    },
    {
      "cell_type": "code",
      "metadata": {
        "id": "GRkY9uMeW_21",
        "colab": {
          "base_uri": "https://localhost:8080/"
        },
        "outputId": "42ea204e-a28c-4f0a-eae7-500354219bad"
      },
      "source": [
        "X_train[cat_vars_with_na].isnull().mean().sort_values(ascending = False)"
      ],
      "execution_count": 216,
      "outputs": [
        {
          "output_type": "execute_result",
          "data": {
            "text/plain": [
              "country    0.0\n",
              "dtype: float64"
            ]
          },
          "metadata": {},
          "execution_count": 216
        }
      ]
    },
    {
      "cell_type": "code",
      "metadata": {
        "id": "qjNThu-oW_21",
        "colab": {
          "base_uri": "https://localhost:8080/"
        },
        "outputId": "ba79f576-3bf0-4829-ca9e-57ec2ef8c6d2"
      },
      "source": [
        "#Debe salir vacío\n",
        "cat_vars_with_na = [var for var in cat_vars \n",
        "                        if X_train[var].isnull().sum() > 0]\n",
        "cat_vars_with_na"
      ],
      "execution_count": 217,
      "outputs": [
        {
          "output_type": "execute_result",
          "data": {
            "text/plain": [
              "[]"
            ]
          },
          "metadata": {},
          "execution_count": 217
        }
      ]
    },
    {
      "cell_type": "markdown",
      "metadata": {
        "id": "utMgnAecW_21"
      },
      "source": [
        "##### 2.2 Missing Values para Variables Numéricas"
      ]
    },
    {
      "cell_type": "code",
      "metadata": {
        "id": "nwrnvIdOW_22"
      },
      "source": [
        "num_vars = [var for var in X_train.columns\n",
        "               if var not in cat_vars and var != 'SalePrice'] #Número de variables numéricas"
      ],
      "execution_count": 218,
      "outputs": []
    },
    {
      "cell_type": "code",
      "metadata": {
        "id": "PLZW0RUTW_22",
        "colab": {
          "base_uri": "https://localhost:8080/"
        },
        "outputId": "45c8a635-8015-41bd-b5e4-d22b5bdec321"
      },
      "source": [
        "len(num_vars)"
      ],
      "execution_count": 219,
      "outputs": [
        {
          "output_type": "execute_result",
          "data": {
            "text/plain": [
              "16"
            ]
          },
          "metadata": {},
          "execution_count": 219
        }
      ]
    },
    {
      "cell_type": "code",
      "metadata": {
        "id": "ZNSkjCAUW_22"
      },
      "source": [
        "##Numéricas con faltantes\n",
        "num_vars_with_na = [var for var in num_vars\n",
        "                       if X_train[var].isnull().sum() > 0] #Número de variables numéricas con faltantes\n",
        "\n"
      ],
      "execution_count": 220,
      "outputs": []
    },
    {
      "cell_type": "code",
      "metadata": {
        "id": "BXASzlzsW_23",
        "colab": {
          "base_uri": "https://localhost:8080/"
        },
        "outputId": "aaf51515-01cf-4ab4-cd1a-fd136cbb2b41"
      },
      "source": [
        "X_train[num_vars_with_na].isnull().mean() # % de faltantes"
      ],
      "execution_count": 221,
      "outputs": [
        {
          "output_type": "execute_result",
          "data": {
            "text/plain": [
              "children    0.000039\n",
              "dtype: float64"
            ]
          },
          "metadata": {},
          "execution_count": 221
        }
      ]
    },
    {
      "cell_type": "markdown",
      "metadata": {
        "id": "St3Fpc6gW_23"
      },
      "source": [
        "##### Aplicamos cirterio para tratar data faltante"
      ]
    },
    {
      "cell_type": "code",
      "metadata": {
        "id": "RKQmiINhW_23",
        "colab": {
          "base_uri": "https://localhost:8080/"
        },
        "outputId": "76a8ad86-d72a-4a0b-ebd8-f9bb26d82288"
      },
      "source": [
        "for var in num_vars_with_na:\n",
        "    mean_val = X_train[var].mean()\n",
        "    \n",
        "    print(var, mean_val)\n",
        "    \n",
        "    X_train[var].fillna(mean_val, inplace=True)\n",
        "    X_test[var].fillna(mean_val, inplace=True) #Estamos usando la media de train para sustituir, no la de test\n",
        "    "
      ],
      "execution_count": 222,
      "outputs": [
        {
          "output_type": "stream",
          "name": "stdout",
          "text": [
            "children 0.10388560954699094\n"
          ]
        }
      ]
    },
    {
      "cell_type": "code",
      "metadata": {
        "id": "WQ0ikSpQW_26",
        "colab": {
          "base_uri": "https://localhost:8080/"
        },
        "outputId": "99206ae1-00bf-4cb1-b103-2602cf6d08ac"
      },
      "source": [
        "X_train[num_vars_with_na].isnull().mean() # Ya debería salir 0"
      ],
      "execution_count": 223,
      "outputs": [
        {
          "output_type": "execute_result",
          "data": {
            "text/plain": [
              "children    0.0\n",
              "dtype: float64"
            ]
          },
          "metadata": {},
          "execution_count": 223
        }
      ]
    },
    {
      "cell_type": "markdown",
      "metadata": {
        "id": "0zS0bF8UW_26"
      },
      "source": [
        "### 3. Variables Temporales"
      ]
    },
    {
      "cell_type": "code",
      "metadata": {
        "id": "eSG2jyjvW_26"
      },
      "source": [
        "def elapsed_time(df, var, ref):\n",
        "    df[var] = df[ref] - df[var]\n",
        "    return df"
      ],
      "execution_count": 224,
      "outputs": []
    },
    {
      "cell_type": "code",
      "metadata": {
        "id": "Av0bI6itW_27",
        "colab": {
          "base_uri": "https://localhost:8080/"
        },
        "outputId": "9de9fb63-7e86-4b23-846c-88a782dc404b"
      },
      "source": [
        "year_vars = [var for var in num_vars if (('Yr' in var) or ('date' in var))]\n",
        "year_vars"
      ],
      "execution_count": 225,
      "outputs": [
        {
          "output_type": "execute_result",
          "data": {
            "text/plain": [
              "['arrival_date_year', 'arrival_date_week_number', 'arrival_date_day_of_month']"
            ]
          },
          "metadata": {},
          "execution_count": 225
        }
      ]
    },
    {
      "cell_type": "code",
      "metadata": {
        "id": "zExOBmbtW_27"
      },
      "source": [
        "ref = 'arrival_date_year'\n",
        "\n",
        "for var in year_vars:\n",
        "    if(var is not ref):\n",
        "        X_train = elapsed_time(X_train, var, ref)\n",
        "        X_test = elapsed_time(X_test, var, ref)"
      ],
      "execution_count": 226,
      "outputs": []
    },
    {
      "cell_type": "code",
      "metadata": {
        "id": "mxXz-_glW_27"
      },
      "source": [
        "#Eliminamos columna YrSold debido a que guardará el valor 0\n",
        "X_train.drop(['arrival_date_year'], axis=1, inplace=True)\n",
        "X_test.drop(['arrival_date_year'], axis=1, inplace=True)"
      ],
      "execution_count": 227,
      "outputs": []
    },
    {
      "cell_type": "markdown",
      "metadata": {
        "id": "1hs9va44W_27"
      },
      "source": [
        "### 4. Transformación de Variables Numéricas"
      ]
    },
    {
      "cell_type": "code",
      "metadata": {
        "id": "p_rMm056W_27",
        "colab": {
          "base_uri": "https://localhost:8080/"
        },
        "outputId": "1b455870-cf12-4214-f733-11c6beb9e00f"
      },
      "source": [
        "#Aplicamos transformación logaritmica\n",
        "# Para algunas variables da error la fórmula porque tiene valores negativos\n",
        "for var in ['lead_time', 'arrival_date_week_number' , 'arrival_date_day_of_month']:\n",
        "    X_train[var] = np.log(X_train[var])\n",
        "    X_test[var] = np.log(X_test[var])"
      ],
      "execution_count": 228,
      "outputs": [
        {
          "output_type": "stream",
          "name": "stderr",
          "text": [
            "/usr/local/lib/python3.7/dist-packages/pandas/core/series.py:726: RuntimeWarning: divide by zero encountered in log\n",
            "  result = getattr(ufunc, method)(*inputs, **kwargs)\n",
            "/usr/local/lib/python3.7/dist-packages/pandas/core/series.py:726: RuntimeWarning: invalid value encountered in log\n",
            "  result = getattr(ufunc, method)(*inputs, **kwargs)\n"
          ]
        }
      ]
    },
    {
      "cell_type": "code",
      "metadata": {
        "id": "krrDIffOW_28"
      },
      "source": [
        "#aplicamos transoformación de Yeo-Jonhson, no en todas las variables es conveniente mejorar la gráfica\n",
        "#LotArea es a la única que vale la pena hacer una tranformación\n",
        "X_train['booking_changes'], param = stats.yeojohnson(X_train['booking_changes'])"
      ],
      "execution_count": 229,
      "outputs": []
    },
    {
      "cell_type": "code",
      "metadata": {
        "id": "SNDpD2gFW_28"
      },
      "source": [
        "X_test['booking_changes'] = stats.yeojohnson(X_test['booking_changes'], lmbda=param) #lmbda = Correr Yeo Johnson pero con un valor ya conocido"
      ],
      "execution_count": 230,
      "outputs": []
    },
    {
      "cell_type": "code",
      "metadata": {
        "id": "FudH6ZE5W_28",
        "colab": {
          "base_uri": "https://localhost:8080/"
        },
        "outputId": "824991ad-aa1d-4c97-c5c2-86bb74baa07a"
      },
      "source": [
        "print(param)"
      ],
      "execution_count": 231,
      "outputs": [
        {
          "output_type": "stream",
          "name": "stdout",
          "text": [
            "-7.551898638985714\n"
          ]
        }
      ]
    },
    {
      "cell_type": "markdown",
      "metadata": {
        "id": "OApmWeOvW_28"
      },
      "source": [
        "#### 4.1 Binarización de Variables con Sesgo fuerte"
      ]
    },
    {
      "cell_type": "code",
      "metadata": {
        "id": "Ua83HOemW_28"
      },
      "source": [
        "sesgadas = ['hotel', 'stays_in_week_nights', 'previous_bookings_not_canceled', 'booking_changes', 'days_in_waiting_list']"
      ],
      "execution_count": 232,
      "outputs": []
    },
    {
      "cell_type": "code",
      "metadata": {
        "id": "kZtakH_jW_29"
      },
      "source": [
        "#Codificar con 0 y 1\n",
        "for var in sesgadas:\n",
        "    X_train[var] = np.where(X_train[var] == 0, 0, 1)\n",
        "    X_test[var] = np.where(X_test[var] == 0, 0, 1)"
      ],
      "execution_count": 233,
      "outputs": []
    },
    {
      "cell_type": "markdown",
      "metadata": {
        "id": "vrYFhL-tW_29"
      },
      "source": [
        "### 5. Codificación de Variables Categóricas"
      ]
    },
    {
      "cell_type": "code",
      "metadata": {
        "id": "oJNPHvG8W_29"
      },
      "source": [
        "#Hacer una codificación ordinal con los valores (un diccionario)\n",
        "Diccio_ADM = {'April':1, 'August':2, 'December':3, 'February':4, 'January':5, 'July':6, 'June':7, 'March':8, 'May':9,'November':10, 'October':11, 'September':12, 'Missing':0, 'NA':0, 'NaN':0}\n",
        "Diccio_ART = {'A':1, 'B':2, 'C':3, 'D':4, 'E':5, 'F':6, 'G':7, 'H':8, 'I':9,'K':10, 'L':11, 'P':12, 'Missing':0, 'NA':0, 'NaN':0}\n",
        "Diccio_MS = {'Aviation':1, 'Complementary':2, 'Corporate':3, 'Direct':4, 'Groups':5, 'Offline TA/TO':6, 'Online TA':7, 'Undefined':8, 'Missing':0, 'NA':0, 'NaN':0}\n",
        "Diccio_DC = {'Corporate':1, 'Direct':2, 'GDS':3, 'TA/TO':4, 'Undefined':5, 'Missing':0, 'NA':0, 'NaN':0}\n",
        "Diccio_Meal = {'BB':1, 'FB':2, 'SC':3, 'Undefined':4, 'Missing':0, 'NA':0, 'NaN':0}\n",
        "Diccio_CT = {'Contract':1, 'Group':2, 'Trascient':3, 'Trascient-Party':4, 'Missing':0, 'NA':0, 'NaN':0}\n",
        "Diccio_RS = {'Canceled':1, 'Check-Out':2, 'No-Show':3, 'Missing':0, 'NA':0, 'NaN':0}\n",
        "Diccio_DT = {'No Deposit':1, 'Non Refund':2, 'Refundable':3, 'Missing':0, 'NA':0, 'NaN':0}\n",
        "Diccio_IRG = {'0':1, '1':2, 'Missing':0, 'NA':0, 'NaN':0}\n",
        "Diccio_IC = {'0':1, '1':2, 'Missing':0, 'NA':0, 'NaN':0}\n",
        "Diccio_IC = {'0':1, '1':2, 'Missing':0, 'NA':0, 'NaN':0}\n",
        "Diccio_Hotel = {'City Hotel':1, 'resort Hotel':2, 'Missing':0, 'NA':0, 'NaN':0}"
      ],
      "execution_count": 234,
      "outputs": []
    },
    {
      "cell_type": "code",
      "metadata": {
        "id": "ibJoA_92IpwF"
      },
      "source": [
        "X_train[var] = X_train[var].map(Diccio_ART)\n",
        "X_train[var] = X_train[var].map(Diccio_ADM)\n",
        "X_train[var] = X_train[var].map(Diccio_MS)\n",
        "X_train[var] = X_train[var].map(Diccio_DC)\n",
        "X_train[var] = X_train[var].map(Diccio_Meal)\n",
        "X_train[var] = X_train[var].map(Diccio_CT)\n",
        "X_train[var] = X_train[var].map(Diccio_RS)\n",
        "X_train[var] = X_train[var].map(Diccio_Hotel)\n",
        "X_train[var] = X_train[var].map(Diccio_DT)\n",
        "X_train[var] = X_train[var].map(Diccio_IRG)\n",
        "X_train[var] = X_train[var].map(Diccio_IC)"
      ],
      "execution_count": 235,
      "outputs": []
    },
    {
      "cell_type": "code",
      "metadata": {
        "id": "9jlxy9RpI4S_"
      },
      "source": [
        "X_test[var] = X_test[var].map(Diccio_ART)\n",
        "X_test[var] = X_test[var].map(Diccio_ADM)\n",
        "X_test[var] = X_test[var].map(Diccio_MS)\n",
        "X_test[var] = X_test[var].map(Diccio_DC)\n",
        "X_test[var] = X_test[var].map(Diccio_Meal)\n",
        "X_test[var] = X_test[var].map(Diccio_CT)\n",
        "X_test[var] = X_test[var].map(Diccio_RS)\n",
        "X_test[var] = X_test[var].map(Diccio_Hotel)\n",
        "X_test[var] = X_test[var].map(Diccio_DT)\n",
        "X_test[var] = X_test[var].map(Diccio_IRG)\n",
        "X_test[var] = X_test[var].map(Diccio_IC)"
      ],
      "execution_count": 236,
      "outputs": []
    },
    {
      "cell_type": "markdown",
      "metadata": {
        "id": "b-eQFtEvW_3A"
      },
      "source": [
        "### 6. Feature Scaling"
      ]
    },
    {
      "cell_type": "code",
      "metadata": {
        "id": "JQRn6Y7aW_3A"
      },
      "source": [
        "scaler = MinMaxScaler()\n",
        "\n",
        "#scaler.fit(X_train)\n",
        "\n",
        "#X_train = pd.DataFrame(\n",
        "    #scaler.transform(X_train),\n",
        "    #columns=X_train.columns)\n",
        "\n",
        "\n",
        "#X_test = pd.DataFrame(\n",
        "    #scaler.transform(X_test),\n",
        "    #columns=X_test.columns)"
      ],
      "execution_count": 238,
      "outputs": []
    },
    {
      "cell_type": "code",
      "metadata": {
        "id": "uwTGRdr3W_3A",
        "colab": {
          "base_uri": "https://localhost:8080/",
          "height": 226
        },
        "outputId": "26782b99-a2b9-4a33-998a-158b96f6fb59"
      },
      "source": [
        "X_train.head()"
      ],
      "execution_count": 239,
      "outputs": [
        {
          "output_type": "execute_result",
          "data": {
            "text/html": [
              "<div>\n",
              "<style scoped>\n",
              "    .dataframe tbody tr th:only-of-type {\n",
              "        vertical-align: middle;\n",
              "    }\n",
              "\n",
              "    .dataframe tbody tr th {\n",
              "        vertical-align: top;\n",
              "    }\n",
              "\n",
              "    .dataframe thead th {\n",
              "        text-align: right;\n",
              "    }\n",
              "</style>\n",
              "<table border=\"1\" class=\"dataframe\">\n",
              "  <thead>\n",
              "    <tr style=\"text-align: right;\">\n",
              "      <th></th>\n",
              "      <th>hotel</th>\n",
              "      <th>is_canceled</th>\n",
              "      <th>lead_time</th>\n",
              "      <th>arrival_date_month</th>\n",
              "      <th>arrival_date_week_number</th>\n",
              "      <th>arrival_date_day_of_month</th>\n",
              "      <th>stays_in_weekend_nights</th>\n",
              "      <th>stays_in_week_nights</th>\n",
              "      <th>adults</th>\n",
              "      <th>children</th>\n",
              "      <th>babies</th>\n",
              "      <th>meal</th>\n",
              "      <th>country</th>\n",
              "      <th>market_segment</th>\n",
              "      <th>distribution_channel</th>\n",
              "      <th>is_repeated_guest</th>\n",
              "      <th>previous_cancellations</th>\n",
              "      <th>previous_bookings_not_canceled</th>\n",
              "      <th>reserved_room_type</th>\n",
              "      <th>assigned_room_type</th>\n",
              "      <th>booking_changes</th>\n",
              "      <th>deposit_type</th>\n",
              "      <th>days_in_waiting_list</th>\n",
              "      <th>customer_type</th>\n",
              "      <th>adr</th>\n",
              "      <th>required_car_parking_spaces</th>\n",
              "      <th>total_of_special_requests</th>\n",
              "      <th>reservation_status</th>\n",
              "      <th>reservation_status_date</th>\n",
              "    </tr>\n",
              "  </thead>\n",
              "  <tbody>\n",
              "    <tr>\n",
              "      <th>84964</th>\n",
              "      <td>1</td>\n",
              "      <td>0</td>\n",
              "      <td>4.477337</td>\n",
              "      <td>March</td>\n",
              "      <td>NaN</td>\n",
              "      <td>NaN</td>\n",
              "      <td>1</td>\n",
              "      <td>1</td>\n",
              "      <td>2</td>\n",
              "      <td>0.0</td>\n",
              "      <td>0</td>\n",
              "      <td>BB</td>\n",
              "      <td>PRT</td>\n",
              "      <td>Offline TA/TO</td>\n",
              "      <td>TA/TO</td>\n",
              "      <td>0</td>\n",
              "      <td>0</td>\n",
              "      <td>0</td>\n",
              "      <td>A</td>\n",
              "      <td>D</td>\n",
              "      <td>0</td>\n",
              "      <td>No Deposit</td>\n",
              "      <td>NaN</td>\n",
              "      <td>Transient</td>\n",
              "      <td>60.00</td>\n",
              "      <td>0</td>\n",
              "      <td>1</td>\n",
              "      <td>Check-Out</td>\n",
              "      <td>2016-03-07</td>\n",
              "    </tr>\n",
              "    <tr>\n",
              "      <th>27111</th>\n",
              "      <td>1</td>\n",
              "      <td>0</td>\n",
              "      <td>2.564949</td>\n",
              "      <td>August</td>\n",
              "      <td>NaN</td>\n",
              "      <td>NaN</td>\n",
              "      <td>0</td>\n",
              "      <td>1</td>\n",
              "      <td>2</td>\n",
              "      <td>1.0</td>\n",
              "      <td>0</td>\n",
              "      <td>HB</td>\n",
              "      <td>PRT</td>\n",
              "      <td>Online TA</td>\n",
              "      <td>TA/TO</td>\n",
              "      <td>0</td>\n",
              "      <td>0</td>\n",
              "      <td>0</td>\n",
              "      <td>D</td>\n",
              "      <td>D</td>\n",
              "      <td>0</td>\n",
              "      <td>No Deposit</td>\n",
              "      <td>NaN</td>\n",
              "      <td>Transient</td>\n",
              "      <td>237.90</td>\n",
              "      <td>0</td>\n",
              "      <td>2</td>\n",
              "      <td>Check-Out</td>\n",
              "      <td>2016-08-20</td>\n",
              "    </tr>\n",
              "    <tr>\n",
              "      <th>13958</th>\n",
              "      <td>1</td>\n",
              "      <td>0</td>\n",
              "      <td>-inf</td>\n",
              "      <td>February</td>\n",
              "      <td>NaN</td>\n",
              "      <td>NaN</td>\n",
              "      <td>0</td>\n",
              "      <td>1</td>\n",
              "      <td>1</td>\n",
              "      <td>0.0</td>\n",
              "      <td>0</td>\n",
              "      <td>BB</td>\n",
              "      <td>PRT</td>\n",
              "      <td>Corporate</td>\n",
              "      <td>Corporate</td>\n",
              "      <td>0</td>\n",
              "      <td>2</td>\n",
              "      <td>1</td>\n",
              "      <td>A</td>\n",
              "      <td>D</td>\n",
              "      <td>0</td>\n",
              "      <td>No Deposit</td>\n",
              "      <td>NaN</td>\n",
              "      <td>Transient</td>\n",
              "      <td>35.00</td>\n",
              "      <td>1</td>\n",
              "      <td>2</td>\n",
              "      <td>Check-Out</td>\n",
              "      <td>2017-02-22</td>\n",
              "    </tr>\n",
              "    <tr>\n",
              "      <th>48359</th>\n",
              "      <td>1</td>\n",
              "      <td>0</td>\n",
              "      <td>-inf</td>\n",
              "      <td>March</td>\n",
              "      <td>NaN</td>\n",
              "      <td>NaN</td>\n",
              "      <td>0</td>\n",
              "      <td>1</td>\n",
              "      <td>2</td>\n",
              "      <td>0.0</td>\n",
              "      <td>0</td>\n",
              "      <td>BB</td>\n",
              "      <td>PRT</td>\n",
              "      <td>Complementary</td>\n",
              "      <td>Direct</td>\n",
              "      <td>0</td>\n",
              "      <td>0</td>\n",
              "      <td>0</td>\n",
              "      <td>A</td>\n",
              "      <td>A</td>\n",
              "      <td>1</td>\n",
              "      <td>No Deposit</td>\n",
              "      <td>NaN</td>\n",
              "      <td>Transient</td>\n",
              "      <td>0.00</td>\n",
              "      <td>0</td>\n",
              "      <td>1</td>\n",
              "      <td>Check-Out</td>\n",
              "      <td>2016-03-23</td>\n",
              "    </tr>\n",
              "    <tr>\n",
              "      <th>105085</th>\n",
              "      <td>1</td>\n",
              "      <td>0</td>\n",
              "      <td>3.135494</td>\n",
              "      <td>January</td>\n",
              "      <td>NaN</td>\n",
              "      <td>NaN</td>\n",
              "      <td>0</td>\n",
              "      <td>1</td>\n",
              "      <td>2</td>\n",
              "      <td>0.0</td>\n",
              "      <td>0</td>\n",
              "      <td>BB</td>\n",
              "      <td>NLD</td>\n",
              "      <td>Online TA</td>\n",
              "      <td>TA/TO</td>\n",
              "      <td>0</td>\n",
              "      <td>0</td>\n",
              "      <td>0</td>\n",
              "      <td>A</td>\n",
              "      <td>A</td>\n",
              "      <td>0</td>\n",
              "      <td>No Deposit</td>\n",
              "      <td>NaN</td>\n",
              "      <td>Transient</td>\n",
              "      <td>82.88</td>\n",
              "      <td>0</td>\n",
              "      <td>0</td>\n",
              "      <td>Check-Out</td>\n",
              "      <td>2017-01-29</td>\n",
              "    </tr>\n",
              "  </tbody>\n",
              "</table>\n",
              "</div>"
            ],
            "text/plain": [
              "        hotel is_canceled  lead_time arrival_date_month  \\\n",
              "84964       1           0   4.477337              March   \n",
              "27111       1           0   2.564949             August   \n",
              "13958       1           0       -inf           February   \n",
              "48359       1           0       -inf              March   \n",
              "105085      1           0   3.135494            January   \n",
              "\n",
              "        arrival_date_week_number  arrival_date_day_of_month  \\\n",
              "84964                        NaN                        NaN   \n",
              "27111                        NaN                        NaN   \n",
              "13958                        NaN                        NaN   \n",
              "48359                        NaN                        NaN   \n",
              "105085                       NaN                        NaN   \n",
              "\n",
              "        stays_in_weekend_nights  stays_in_week_nights  adults  children  \\\n",
              "84964                         1                     1       2       0.0   \n",
              "27111                         0                     1       2       1.0   \n",
              "13958                         0                     1       1       0.0   \n",
              "48359                         0                     1       2       0.0   \n",
              "105085                        0                     1       2       0.0   \n",
              "\n",
              "        babies meal country market_segment distribution_channel  \\\n",
              "84964        0   BB     PRT  Offline TA/TO                TA/TO   \n",
              "27111        0   HB     PRT      Online TA                TA/TO   \n",
              "13958        0   BB     PRT      Corporate            Corporate   \n",
              "48359        0   BB     PRT  Complementary               Direct   \n",
              "105085       0   BB     NLD      Online TA                TA/TO   \n",
              "\n",
              "       is_repeated_guest  previous_cancellations  \\\n",
              "84964                  0                       0   \n",
              "27111                  0                       0   \n",
              "13958                  0                       2   \n",
              "48359                  0                       0   \n",
              "105085                 0                       0   \n",
              "\n",
              "        previous_bookings_not_canceled reserved_room_type assigned_room_type  \\\n",
              "84964                                0                  A                  D   \n",
              "27111                                0                  D                  D   \n",
              "13958                                1                  A                  D   \n",
              "48359                                0                  A                  A   \n",
              "105085                               0                  A                  A   \n",
              "\n",
              "        booking_changes deposit_type  days_in_waiting_list customer_type  \\\n",
              "84964                 0   No Deposit                   NaN     Transient   \n",
              "27111                 0   No Deposit                   NaN     Transient   \n",
              "13958                 0   No Deposit                   NaN     Transient   \n",
              "48359                 1   No Deposit                   NaN     Transient   \n",
              "105085                0   No Deposit                   NaN     Transient   \n",
              "\n",
              "           adr  required_car_parking_spaces  total_of_special_requests  \\\n",
              "84964    60.00                            0                          1   \n",
              "27111   237.90                            0                          2   \n",
              "13958    35.00                            1                          2   \n",
              "48359     0.00                            0                          1   \n",
              "105085   82.88                            0                          0   \n",
              "\n",
              "       reservation_status reservation_status_date  \n",
              "84964           Check-Out              2016-03-07  \n",
              "27111           Check-Out              2016-08-20  \n",
              "13958           Check-Out              2017-02-22  \n",
              "48359           Check-Out              2016-03-23  \n",
              "105085          Check-Out              2017-01-29  "
            ]
          },
          "metadata": {},
          "execution_count": 239
        }
      ]
    },
    {
      "cell_type": "code",
      "metadata": {
        "id": "gnpywvfQW_3A"
      },
      "source": [
        "#Guardamos dataset con data preparada para entrenamiento.\n",
        "\n",
        "X_train.to_csv('/content/drive/MyDrive/Product Development/Proyecto 1/prep_Xtrain.csv', index=False)\n",
        "X_test.to_csv('/content/drive/MyDrive/Product Development/Proyecto 1/prep_Xtest.csv', index=False)\n",
        "\n",
        "y_train.to_csv('/content/drive/MyDrive/Product Development/Proyecto 1/prep_ytrain', index=False)\n",
        "y_test.to_csv('/content/drive/MyDrive/Product Development/Proyecto 1/prep_ytest', index=False)"
      ],
      "execution_count": 240,
      "outputs": []
    },
    {
      "cell_type": "code",
      "metadata": {
        "id": "Hjz3o5cPW_3B",
        "colab": {
          "base_uri": "https://localhost:8080/"
        },
        "outputId": "aa15e4f8-1564-446c-9ce1-84ad7a873124"
      },
      "source": [
        "joblib.dump(scaler, '/content/drive/MyDrive/Product Development/Proyecto 1/minmax_scaler.joblib')"
      ],
      "execution_count": 241,
      "outputs": [
        {
          "output_type": "execute_result",
          "data": {
            "text/plain": [
              "['/content/drive/MyDrive/Product Development/Proyecto 1/minmax_scaler.joblib']"
            ]
          },
          "metadata": {},
          "execution_count": 241
        }
      ]
    },
    {
      "cell_type": "code",
      "metadata": {
        "id": "YUBeaRn4W_3B",
        "colab": {
          "base_uri": "https://localhost:8080/"
        },
        "outputId": "455683c0-a3be-4658-b708-28e5917bdb99"
      },
      "source": [
        "np.sum(X_train[X_train == 'Unf'].sum(axis=0))"
      ],
      "execution_count": 242,
      "outputs": [
        {
          "output_type": "execute_result",
          "data": {
            "text/plain": [
              "0.0"
            ]
          },
          "metadata": {},
          "execution_count": 242
        }
      ]
    },
    {
      "cell_type": "code",
      "metadata": {
        "id": "tJT6nrR7W_3B"
      },
      "source": [
        ""
      ],
      "execution_count": null,
      "outputs": []
    }
  ]
}